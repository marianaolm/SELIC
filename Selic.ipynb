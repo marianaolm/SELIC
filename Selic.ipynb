{
 "cells": [
  {
   "cell_type": "markdown",
   "id": "c121453f",
   "metadata": {},
   "source": [
    "## Libraries"
   ]
  },
  {
   "cell_type": "code",
   "execution_count": null,
   "id": "f5eb2b1d",
   "metadata": {},
   "outputs": [],
   "source": [
    "!pip install python-bcb\n",
    "import pandas as pd\n",
    "import numpy as np\n",
    "from datetime import datetime, date, timedelta\n",
    "from IPython.display import clear_output"
   ]
  },
  {
   "cell_type": "markdown",
   "id": "921bd827",
   "metadata": {},
   "source": [
    "## Shortcuts"
   ]
  },
  {
   "cell_type": "code",
   "execution_count": 2,
   "id": "718f8ea7",
   "metadata": {},
   "outputs": [],
   "source": [
    "vector0 = np.zeros\n",
    "frame = pd.DataFrame\n",
    "date_object = datetime.strptime\n",
    "today = date.today().strftime(\"%Y-%m-%d\")"
   ]
  },
  {
   "cell_type": "markdown",
   "id": "563b6011",
   "metadata": {},
   "source": [
    "## Functions"
   ]
  },
  {
   "cell_type": "code",
   "execution_count": 3,
   "id": "8fafc0f0",
   "metadata": {},
   "outputs": [],
   "source": [
    "def info(start, end, init):\n",
    "    print(f'start date: {start}')\n",
    "    print(f'end date: {end}')\n",
    "    print(f'capital: {init}')"
   ]
  },
  {
   "cell_type": "markdown",
   "id": "80512224",
   "metadata": {},
   "source": [
    "## Inputs"
   ]
  },
  {
   "cell_type": "code",
   "execution_count": 4,
   "id": "49060053",
   "metadata": {},
   "outputs": [],
   "source": [
    "limit_date = date_object('1995-01-01', \"%Y-%m-%d\")\n",
    "today = date_object(today, \"%Y-%m-%d\")"
   ]
  },
  {
   "cell_type": "code",
   "execution_count": 5,
   "id": "c146424e",
   "metadata": {},
   "outputs": [
    {
     "name": "stdout",
     "output_type": "stream",
     "text": [
      "Start date: 2000-01-01 00:00:00\n"
     ]
    }
   ],
   "source": [
    "start_date = date_object(input('Start date: '), \"%Y-%m-%d\")\n",
    "if(start_date < limit_date or start_date >= today):\n",
    "    while(start_date < limit_date or start_date >= today):\n",
    "        start_date = date_object(input(f\"The start date must be greater than 1995-01-01 and sooner than {today}: \"), \"%Y-%m-%d\")\n",
    "        \n",
    "clear_output(wait=True)\n",
    "print(f'Start date: {start_date}')"
   ]
  },
  {
   "cell_type": "code",
   "execution_count": 6,
   "id": "a4d20dce",
   "metadata": {},
   "outputs": [
    {
     "name": "stdout",
     "output_type": "stream",
     "text": [
      "End date: 2022-03-31 00:00:00\n"
     ]
    }
   ],
   "source": [
    "end_date = date_object(input('End date: '), \"%Y-%m-%d\")\n",
    "if(end_date <= start_date or end_date >= today):\n",
    "    while(end_date <= start_date or end_date >= today):\n",
    "        end_date = date_object(input(f\"The end date must be later than {start_date} and sooner than {today}: \"), \"%Y-%m-%d\")\n",
    "\n",
    "clear_output(wait=True)\n",
    "print(f'End date: {end_date}')"
   ]
  },
  {
   "cell_type": "code",
   "execution_count": 7,
   "id": "b46098fb",
   "metadata": {},
   "outputs": [
    {
     "name": "stdout",
     "output_type": "stream",
     "text": [
      "Initial amount of capital: 1000\n"
     ]
    }
   ],
   "source": [
    "init_capital = float(input('Initial amount of capital: '))"
   ]
  },
  {
   "cell_type": "markdown",
   "id": "2d230399",
   "metadata": {},
   "source": [
    "## Solution "
   ]
  },
  {
   "cell_type": "code",
   "execution_count": 8,
   "id": "596de136",
   "metadata": {},
   "outputs": [],
   "source": [
    "from bcb import sgs\n",
    "\n",
    "taxa_selic = sgs.get({'Selic': 11})\n",
    "df = taxa_selic.loc[start_date : end_date]\n",
    "selic = df['Selic']"
   ]
  },
  {
   "cell_type": "code",
   "execution_count": 9,
   "id": "3edd4dc4",
   "metadata": {},
   "outputs": [],
   "source": [
    "dcalendar_vector = pd.date_range(start= start_date, end= end_date)\n",
    "mcalendar_vector = pd.date_range(start= start_date, end= end_date, freq='M')\n",
    "ycalendar_vector = pd.date_range(start= start_date, end= end_date, freq='Y')"
   ]
  },
  {
   "cell_type": "code",
   "execution_count": 10,
   "id": "9616d272",
   "metadata": {},
   "outputs": [],
   "source": [
    "selic_ = selic.reindex(dcalendar_vector) \n",
    "selic_.fillna(value=0, inplace=True)"
   ]
  },
  {
   "cell_type": "code",
   "execution_count": 11,
   "id": "5be00cb9",
   "metadata": {},
   "outputs": [],
   "source": [
    "daily_earning = vector0(len(selic_))\n",
    "capital = vector0(len(selic_))\n",
    "total_earnings = vector0(len(selic_))\n",
    "capital[0] = init_capital"
   ]
  },
  {
   "cell_type": "code",
   "execution_count": 12,
   "id": "68ea2c7b",
   "metadata": {},
   "outputs": [],
   "source": [
    "for i in range(1,len(selic_)):\n",
    "    daily_earning[i] = (capital[i-1])*(selic_[i-1]/100)\n",
    "    capital[i] = capital[i-1]*(1+(selic_[i-1]/100))\n",
    "    total_earnings[i] = total_earnings[i-1] + daily_earning[i]"
   ]
  },
  {
   "cell_type": "code",
   "execution_count": 13,
   "id": "829f03a9",
   "metadata": {},
   "outputs": [],
   "source": [
    "df_date = frame({'Date': selic_.index}) #selic_ ta com frequencia diaria\n",
    "df_capital = frame({'Capital': capital})\n",
    "df_ae = frame({'Amount earned': total_earnings})"
   ]
  },
  {
   "cell_type": "markdown",
   "id": "e0eec829",
   "metadata": {},
   "source": [
    "## Daily frequency"
   ]
  },
  {
   "cell_type": "code",
   "execution_count": 14,
   "id": "bd577830",
   "metadata": {},
   "outputs": [
    {
     "name": "stdout",
     "output_type": "stream",
     "text": [
      "start date: 2000-01-01 00:00:00\n",
      "end date: 2022-03-31 00:00:00\n",
      "capital: 1000.0\n"
     ]
    },
    {
     "data": {
      "text/html": [
       "<div>\n",
       "<style scoped>\n",
       "    .dataframe tbody tr th:only-of-type {\n",
       "        vertical-align: middle;\n",
       "    }\n",
       "\n",
       "    .dataframe tbody tr th {\n",
       "        vertical-align: top;\n",
       "    }\n",
       "\n",
       "    .dataframe thead th {\n",
       "        text-align: right;\n",
       "    }\n",
       "</style>\n",
       "<table border=\"1\" class=\"dataframe\">\n",
       "  <thead>\n",
       "    <tr style=\"text-align: right;\">\n",
       "      <th></th>\n",
       "      <th>Capital</th>\n",
       "      <th>Amount earned</th>\n",
       "    </tr>\n",
       "    <tr>\n",
       "      <th>Date</th>\n",
       "      <th></th>\n",
       "      <th></th>\n",
       "    </tr>\n",
       "  </thead>\n",
       "  <tbody>\n",
       "    <tr>\n",
       "      <th>2000-01-01</th>\n",
       "      <td>1000.000000</td>\n",
       "      <td>0.000000</td>\n",
       "    </tr>\n",
       "    <tr>\n",
       "      <th>2000-01-02</th>\n",
       "      <td>1000.000000</td>\n",
       "      <td>0.000000</td>\n",
       "    </tr>\n",
       "    <tr>\n",
       "      <th>2000-01-03</th>\n",
       "      <td>1000.000000</td>\n",
       "      <td>0.000000</td>\n",
       "    </tr>\n",
       "    <tr>\n",
       "      <th>2000-01-04</th>\n",
       "      <td>1000.691860</td>\n",
       "      <td>0.691860</td>\n",
       "    </tr>\n",
       "    <tr>\n",
       "      <th>2000-01-05</th>\n",
       "      <td>1001.384199</td>\n",
       "      <td>1.384199</td>\n",
       "    </tr>\n",
       "    <tr>\n",
       "      <th>...</th>\n",
       "      <td>...</td>\n",
       "      <td>...</td>\n",
       "    </tr>\n",
       "    <tr>\n",
       "      <th>2022-03-27</th>\n",
       "      <td>12506.524691</td>\n",
       "      <td>11506.524691</td>\n",
       "    </tr>\n",
       "    <tr>\n",
       "      <th>2022-03-28</th>\n",
       "      <td>12506.524691</td>\n",
       "      <td>11506.524691</td>\n",
       "    </tr>\n",
       "    <tr>\n",
       "      <th>2022-03-29</th>\n",
       "      <td>12511.994920</td>\n",
       "      <td>11511.994920</td>\n",
       "    </tr>\n",
       "    <tr>\n",
       "      <th>2022-03-30</th>\n",
       "      <td>12517.467541</td>\n",
       "      <td>11517.467541</td>\n",
       "    </tr>\n",
       "    <tr>\n",
       "      <th>2022-03-31</th>\n",
       "      <td>12522.942556</td>\n",
       "      <td>11522.942556</td>\n",
       "    </tr>\n",
       "  </tbody>\n",
       "</table>\n",
       "<p>8126 rows × 2 columns</p>\n",
       "</div>"
      ],
      "text/plain": [
       "                 Capital  Amount earned\n",
       "Date                                   \n",
       "2000-01-01   1000.000000       0.000000\n",
       "2000-01-02   1000.000000       0.000000\n",
       "2000-01-03   1000.000000       0.000000\n",
       "2000-01-04   1000.691860       0.691860\n",
       "2000-01-05   1001.384199       1.384199\n",
       "...                  ...            ...\n",
       "2022-03-27  12506.524691   11506.524691\n",
       "2022-03-28  12506.524691   11506.524691\n",
       "2022-03-29  12511.994920   11511.994920\n",
       "2022-03-30  12517.467541   11517.467541\n",
       "2022-03-31  12522.942556   11522.942556\n",
       "\n",
       "[8126 rows x 2 columns]"
      ]
     },
     "metadata": {},
     "output_type": "display_data"
    }
   ],
   "source": [
    "df_daily = pd.concat([df_date, df_capital, df_ae], axis=1)\n",
    "df_daily.set_index(\"Date\", inplace=True)\n",
    "    \n",
    "info(start_date, end_date, init_capital)\n",
    "display(df_daily)"
   ]
  },
  {
   "cell_type": "markdown",
   "id": "db3443b3",
   "metadata": {},
   "source": [
    "## Monthly frequency"
   ]
  },
  {
   "cell_type": "code",
   "execution_count": 15,
   "id": "1f21df57",
   "metadata": {},
   "outputs": [
    {
     "name": "stdout",
     "output_type": "stream",
     "text": [
      "start date: 2000-01-01 00:00:00\n",
      "end date: 2022-03-31 00:00:00\n",
      "capital: 1000.0\n"
     ]
    },
    {
     "data": {
      "text/html": [
       "<div>\n",
       "<style scoped>\n",
       "    .dataframe tbody tr th:only-of-type {\n",
       "        vertical-align: middle;\n",
       "    }\n",
       "\n",
       "    .dataframe tbody tr th {\n",
       "        vertical-align: top;\n",
       "    }\n",
       "\n",
       "    .dataframe thead th {\n",
       "        text-align: right;\n",
       "    }\n",
       "</style>\n",
       "<table border=\"1\" class=\"dataframe\">\n",
       "  <thead>\n",
       "    <tr style=\"text-align: right;\">\n",
       "      <th></th>\n",
       "      <th>Capital</th>\n",
       "      <th>Amount earned</th>\n",
       "    </tr>\n",
       "  </thead>\n",
       "  <tbody>\n",
       "    <tr>\n",
       "      <th>2000-01-31</th>\n",
       "      <td>1013.860611</td>\n",
       "      <td>13.860611</td>\n",
       "    </tr>\n",
       "    <tr>\n",
       "      <th>2000-02-29</th>\n",
       "      <td>1028.571688</td>\n",
       "      <td>28.571688</td>\n",
       "    </tr>\n",
       "    <tr>\n",
       "      <th>2000-03-31</th>\n",
       "      <td>1043.490602</td>\n",
       "      <td>43.490602</td>\n",
       "    </tr>\n",
       "    <tr>\n",
       "      <th>2000-04-30</th>\n",
       "      <td>1057.723589</td>\n",
       "      <td>57.723589</td>\n",
       "    </tr>\n",
       "    <tr>\n",
       "      <th>2000-05-31</th>\n",
       "      <td>1072.803825</td>\n",
       "      <td>72.803825</td>\n",
       "    </tr>\n",
       "    <tr>\n",
       "      <th>...</th>\n",
       "      <td>...</td>\n",
       "      <td>...</td>\n",
       "    </tr>\n",
       "    <tr>\n",
       "      <th>2021-11-30</th>\n",
       "      <td>12133.859313</td>\n",
       "      <td>11133.859313</td>\n",
       "    </tr>\n",
       "    <tr>\n",
       "      <th>2021-12-31</th>\n",
       "      <td>12226.507366</td>\n",
       "      <td>11226.507366</td>\n",
       "    </tr>\n",
       "    <tr>\n",
       "      <th>2022-01-31</th>\n",
       "      <td>12316.038451</td>\n",
       "      <td>11316.038451</td>\n",
       "    </tr>\n",
       "    <tr>\n",
       "      <th>2022-02-28</th>\n",
       "      <td>12413.341603</td>\n",
       "      <td>11413.341603</td>\n",
       "    </tr>\n",
       "    <tr>\n",
       "      <th>2022-03-31</th>\n",
       "      <td>12522.942556</td>\n",
       "      <td>11522.942556</td>\n",
       "    </tr>\n",
       "  </tbody>\n",
       "</table>\n",
       "<p>267 rows × 2 columns</p>\n",
       "</div>"
      ],
      "text/plain": [
       "                 Capital  Amount earned\n",
       "2000-01-31   1013.860611      13.860611\n",
       "2000-02-29   1028.571688      28.571688\n",
       "2000-03-31   1043.490602      43.490602\n",
       "2000-04-30   1057.723589      57.723589\n",
       "2000-05-31   1072.803825      72.803825\n",
       "...                  ...            ...\n",
       "2021-11-30  12133.859313   11133.859313\n",
       "2021-12-31  12226.507366   11226.507366\n",
       "2022-01-31  12316.038451   11316.038451\n",
       "2022-02-28  12413.341603   11413.341603\n",
       "2022-03-31  12522.942556   11522.942556\n",
       "\n",
       "[267 rows x 2 columns]"
      ]
     },
     "metadata": {},
     "output_type": "display_data"
    }
   ],
   "source": [
    "df_freq = pd.concat([df_date, df_capital, df_ae], axis=1)\n",
    "df_freq.set_index(\"Date\", inplace=True)\n",
    "\n",
    "df_index = frame({\"Month Date\": mcalendar_vector})\n",
    "df_index.set_index(\"Month Date\", inplace=True)\n",
    "\n",
    "df_monthly = pd.merge(df_index, df_freq, left_index=True, right_index=True)\n",
    "    \n",
    "info(start_date, end_date, init_capital)\n",
    "display(df_monthly)"
   ]
  },
  {
   "cell_type": "markdown",
   "id": "048979d9",
   "metadata": {},
   "source": [
    "## Yearly frequency"
   ]
  },
  {
   "cell_type": "code",
   "execution_count": 16,
   "id": "337dbf8f",
   "metadata": {},
   "outputs": [
    {
     "name": "stdout",
     "output_type": "stream",
     "text": [
      "start date: 2000-01-01 00:00:00\n",
      "end date: 2022-03-31 00:00:00\n",
      "capital: 1000.0\n"
     ]
    },
    {
     "data": {
      "text/html": [
       "<div>\n",
       "<style scoped>\n",
       "    .dataframe tbody tr th:only-of-type {\n",
       "        vertical-align: middle;\n",
       "    }\n",
       "\n",
       "    .dataframe tbody tr th {\n",
       "        vertical-align: top;\n",
       "    }\n",
       "\n",
       "    .dataframe thead th {\n",
       "        text-align: right;\n",
       "    }\n",
       "</style>\n",
       "<table border=\"1\" class=\"dataframe\">\n",
       "  <thead>\n",
       "    <tr style=\"text-align: right;\">\n",
       "      <th></th>\n",
       "      <th>Capital</th>\n",
       "      <th>Amount earned</th>\n",
       "    </tr>\n",
       "  </thead>\n",
       "  <tbody>\n",
       "    <tr>\n",
       "      <th>2000-12-31</th>\n",
       "      <td>1174.325422</td>\n",
       "      <td>174.325422</td>\n",
       "    </tr>\n",
       "    <tr>\n",
       "      <th>2001-12-31</th>\n",
       "      <td>1376.734949</td>\n",
       "      <td>376.734949</td>\n",
       "    </tr>\n",
       "    <tr>\n",
       "      <th>2002-12-31</th>\n",
       "      <td>1640.384862</td>\n",
       "      <td>640.384862</td>\n",
       "    </tr>\n",
       "    <tr>\n",
       "      <th>2003-12-31</th>\n",
       "      <td>2023.910928</td>\n",
       "      <td>1023.910928</td>\n",
       "    </tr>\n",
       "    <tr>\n",
       "      <th>2004-12-31</th>\n",
       "      <td>2352.608134</td>\n",
       "      <td>1352.608134</td>\n",
       "    </tr>\n",
       "    <tr>\n",
       "      <th>2005-12-31</th>\n",
       "      <td>2802.592125</td>\n",
       "      <td>1802.592125</td>\n",
       "    </tr>\n",
       "    <tr>\n",
       "      <th>2006-12-31</th>\n",
       "      <td>3225.133301</td>\n",
       "      <td>2225.133301</td>\n",
       "    </tr>\n",
       "    <tr>\n",
       "      <th>2007-12-31</th>\n",
       "      <td>3606.630937</td>\n",
       "      <td>2606.630937</td>\n",
       "    </tr>\n",
       "    <tr>\n",
       "      <th>2008-12-31</th>\n",
       "      <td>4056.432684</td>\n",
       "      <td>3056.432684</td>\n",
       "    </tr>\n",
       "    <tr>\n",
       "      <th>2009-12-31</th>\n",
       "      <td>4460.022551</td>\n",
       "      <td>3460.022551</td>\n",
       "    </tr>\n",
       "    <tr>\n",
       "      <th>2010-12-31</th>\n",
       "      <td>4895.717215</td>\n",
       "      <td>3895.717215</td>\n",
       "    </tr>\n",
       "    <tr>\n",
       "      <th>2011-12-31</th>\n",
       "      <td>5466.841591</td>\n",
       "      <td>4466.841591</td>\n",
       "    </tr>\n",
       "    <tr>\n",
       "      <th>2012-12-31</th>\n",
       "      <td>5929.494699</td>\n",
       "      <td>4929.494699</td>\n",
       "    </tr>\n",
       "    <tr>\n",
       "      <th>2013-12-31</th>\n",
       "      <td>6416.399802</td>\n",
       "      <td>5416.399802</td>\n",
       "    </tr>\n",
       "    <tr>\n",
       "      <th>2014-12-31</th>\n",
       "      <td>7115.620694</td>\n",
       "      <td>6115.620694</td>\n",
       "    </tr>\n",
       "    <tr>\n",
       "      <th>2015-12-31</th>\n",
       "      <td>8059.025891</td>\n",
       "      <td>7059.025891</td>\n",
       "    </tr>\n",
       "    <tr>\n",
       "      <th>2016-12-31</th>\n",
       "      <td>9193.613327</td>\n",
       "      <td>8193.613327</td>\n",
       "    </tr>\n",
       "    <tr>\n",
       "      <th>2017-12-31</th>\n",
       "      <td>10107.396543</td>\n",
       "      <td>9107.396543</td>\n",
       "    </tr>\n",
       "    <tr>\n",
       "      <th>2018-12-31</th>\n",
       "      <td>10754.529103</td>\n",
       "      <td>9754.529103</td>\n",
       "    </tr>\n",
       "    <tr>\n",
       "      <th>2019-12-31</th>\n",
       "      <td>11396.342226</td>\n",
       "      <td>10396.342226</td>\n",
       "    </tr>\n",
       "    <tr>\n",
       "      <th>2020-12-31</th>\n",
       "      <td>11711.758833</td>\n",
       "      <td>10711.758833</td>\n",
       "    </tr>\n",
       "    <tr>\n",
       "      <th>2021-12-31</th>\n",
       "      <td>12226.507366</td>\n",
       "      <td>11226.507366</td>\n",
       "    </tr>\n",
       "  </tbody>\n",
       "</table>\n",
       "</div>"
      ],
      "text/plain": [
       "                 Capital  Amount earned\n",
       "2000-12-31   1174.325422     174.325422\n",
       "2001-12-31   1376.734949     376.734949\n",
       "2002-12-31   1640.384862     640.384862\n",
       "2003-12-31   2023.910928    1023.910928\n",
       "2004-12-31   2352.608134    1352.608134\n",
       "2005-12-31   2802.592125    1802.592125\n",
       "2006-12-31   3225.133301    2225.133301\n",
       "2007-12-31   3606.630937    2606.630937\n",
       "2008-12-31   4056.432684    3056.432684\n",
       "2009-12-31   4460.022551    3460.022551\n",
       "2010-12-31   4895.717215    3895.717215\n",
       "2011-12-31   5466.841591    4466.841591\n",
       "2012-12-31   5929.494699    4929.494699\n",
       "2013-12-31   6416.399802    5416.399802\n",
       "2014-12-31   7115.620694    6115.620694\n",
       "2015-12-31   8059.025891    7059.025891\n",
       "2016-12-31   9193.613327    8193.613327\n",
       "2017-12-31  10107.396543    9107.396543\n",
       "2018-12-31  10754.529103    9754.529103\n",
       "2019-12-31  11396.342226   10396.342226\n",
       "2020-12-31  11711.758833   10711.758833\n",
       "2021-12-31  12226.507366   11226.507366"
      ]
     },
     "metadata": {},
     "output_type": "display_data"
    }
   ],
   "source": [
    "df_freq = pd.concat([df_date, df_capital, df_ae], axis=1)\n",
    "df_freq.set_index(\"Date\", inplace=True)\n",
    "\n",
    "df_index = frame({\"Year Date\": ycalendar_vector})\n",
    "df_index.set_index(\"Year Date\", inplace=True)\n",
    "\n",
    "df_yearly = pd.merge(df_index, df_freq, left_index=True, right_index=True)\n",
    "\n",
    "info(start_date, end_date, init_capital)\n",
    "display(df_yearly)"
   ]
  },
  {
   "cell_type": "markdown",
   "id": "ab89cefc",
   "metadata": {},
   "source": [
    "## Most profitable period of n calendar days"
   ]
  },
  {
   "cell_type": "code",
   "execution_count": 17,
   "id": "3fc9a85e",
   "metadata": {},
   "outputs": [
    {
     "name": "stdout",
     "output_type": "stream",
     "text": [
      "Insert the number of calendar days: 200\n"
     ]
    }
   ],
   "source": [
    "n = int(input(\"Insert the number of calendar days: \"))"
   ]
  },
  {
   "cell_type": "code",
   "execution_count": 18,
   "id": "cca3918e",
   "metadata": {},
   "outputs": [],
   "source": [
    "df_selic = frame({'Selic': selic_})\n",
    "df_selic_ = df_selic.reset_index()"
   ]
  },
  {
   "cell_type": "code",
   "execution_count": 19,
   "id": "7173adab",
   "metadata": {},
   "outputs": [],
   "source": [
    "retorno = vector0(len(df_selic_)-n)\n",
    "cumulative_selic0 = 1\n",
    "\n",
    "for i in range(0,n):\n",
    "    cumulative_selic0 = ((cumulative_selic0)*(1+(df_selic_['Selic'][i])/100))\n",
    "\n",
    "cumulative_selic0 = cumulative_selic0-1\n",
    "retorno[0] = cumulative_selic0"
   ]
  },
  {
   "cell_type": "code",
   "execution_count": 20,
   "id": "ee7f969e",
   "metadata": {},
   "outputs": [],
   "source": [
    "for j in range (0,len(df_selic_)-(n+1)):\n",
    "    retorno[j+1] = (retorno[j]/(1+(df_selic_['Selic'][j])))*(1+df_selic_['Selic'][j+n])\n",
    "\n",
    "index_max = np.where(retorno == retorno.max())\n",
    "index_max_profit = index_max[0][0]"
   ]
  },
  {
   "cell_type": "markdown",
   "id": "d9274729",
   "metadata": {},
   "source": [
    "## Answer "
   ]
  },
  {
   "cell_type": "code",
   "execution_count": 21,
   "id": "eb7e986d",
   "metadata": {},
   "outputs": [
    {
     "name": "stdout",
     "output_type": "stream",
     "text": [
      "Most profitable start date: 2003-01-06 00:00:00\n",
      "Most profitable end date: 2003-07-25 00:00:00\n"
     ]
    }
   ],
   "source": [
    "profitable_start = dcalendar_vector[index_max_profit]\n",
    "profitable_end = dcalendar_vector[index_max_profit + n]\n",
    "print(f'Most profitable start date: {profitable_start}')\n",
    "print(f'Most profitable end date: {profitable_end}')"
   ]
  }
 ],
 "metadata": {
  "kernelspec": {
   "display_name": "Python 3 (ipykernel)",
   "language": "python",
   "name": "python3"
  },
  "language_info": {
   "codemirror_mode": {
    "name": "ipython",
    "version": 3
   },
   "file_extension": ".py",
   "mimetype": "text/x-python",
   "name": "python",
   "nbconvert_exporter": "python",
   "pygments_lexer": "ipython3",
   "version": "3.9.7"
  }
 },
 "nbformat": 4,
 "nbformat_minor": 5
}
